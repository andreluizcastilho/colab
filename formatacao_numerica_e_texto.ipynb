{
  "nbformat": 4,
  "nbformat_minor": 0,
  "metadata": {
    "colab": {
      "provenance": [],
      "authorship_tag": "ABX9TyPg4TPUPCZJRxYOQe7G8UOd",
      "include_colab_link": true
    },
    "kernelspec": {
      "name": "python3",
      "display_name": "Python 3"
    },
    "language_info": {
      "name": "python"
    }
  },
  "cells": [
    {
      "cell_type": "markdown",
      "metadata": {
        "id": "view-in-github",
        "colab_type": "text"
      },
      "source": [
        "<a href=\"https://colab.research.google.com/github/andreluizcastilho/colab/blob/main/formatacao_numerica_e_texto.ipynb\" target=\"_parent\"><img src=\"https://colab.research.google.com/assets/colab-badge.svg\" alt=\"Open In Colab\"/></a>"
      ]
    },
    {
      "cell_type": "code",
      "execution_count": 1,
      "metadata": {
        "colab": {
          "base_uri": "https://localhost:8080/"
        },
        "id": "cr9KirIpd4ws",
        "outputId": "cbac2cda-3475-4d0a-ba7f-e5506612876e"
      },
      "outputs": [
        {
          "output_type": "stream",
          "name": "stdout",
          "text": [
            "O lucro foi de 1000\n",
            "A margem foi de 0.6666666666666666\n"
          ]
        }
      ],
      "source": [
        "faturamento = 1500\n",
        "custo = 500\n",
        "lucro = faturamento - custo\n",
        "print(f'O lucro foi de {lucro}')\n",
        "\n",
        "margem = lucro / faturamento\n",
        "print(f'A margem foi de {margem}')"
      ]
    },
    {
      "cell_type": "code",
      "source": [
        "faturamento = 1500\n",
        "custo = 500\n",
        "lucro = faturamento - custo\n",
        "print(f'O lucro foi de R${lucro}')"
      ],
      "metadata": {
        "colab": {
          "base_uri": "https://localhost:8080/"
        },
        "id": "88mEUKopeGGp",
        "outputId": "717362ad-316c-4250-f01e-b731621636ab"
      },
      "execution_count": 2,
      "outputs": [
        {
          "output_type": "stream",
          "name": "stdout",
          "text": [
            "O lucro foi de R$1000\n"
          ]
        }
      ]
    },
    {
      "cell_type": "code",
      "source": [
        "margem = lucro / faturamento\n",
        "print(f'A margem foi de {margem}')"
      ],
      "metadata": {
        "colab": {
          "base_uri": "https://localhost:8080/"
        },
        "id": "n3E73GkOfvZf",
        "outputId": "eb11b6c2-5450-4bec-93b1-88bd36f5966b"
      },
      "execution_count": 3,
      "outputs": [
        {
          "output_type": "stream",
          "name": "stdout",
          "text": [
            "A margem foi de 0.6666666666666666\n"
          ]
        }
      ]
    },
    {
      "cell_type": "code",
      "source": [
        "faturamento = 1500\n",
        "custo = 500\n",
        "lucro = faturamento - custo\n",
        "print(f'O lucro foi de {lucro}')\n",
        "\n",
        "margem = lucro / faturamento\n",
        "print(f'A margem foi de {margem}')"
      ],
      "metadata": {
        "colab": {
          "base_uri": "https://localhost:8080/"
        },
        "id": "QxsaCd9ifyrP",
        "outputId": "3bd4f1ff-cee9-4f97-ca87-e33af481fbb1"
      },
      "execution_count": 4,
      "outputs": [
        {
          "output_type": "stream",
          "name": "stdout",
          "text": [
            "O lucro foi de 1000\n",
            "A margem foi de 0.6666666666666666\n"
          ]
        }
      ]
    },
    {
      "cell_type": "code",
      "source": [
        "margem = lucro / faturamento\n",
        "print(f'A margem foi de {margem:.2%}')"
      ],
      "metadata": {
        "colab": {
          "base_uri": "https://localhost:8080/"
        },
        "id": "R7pEZ_Zsf1Zp",
        "outputId": "2f621d3a-41e6-4899-edd5-283dbb2173cd"
      },
      "execution_count": 5,
      "outputs": [
        {
          "output_type": "stream",
          "name": "stdout",
          "text": [
            "A margem foi de 66.67%\n"
          ]
        }
      ]
    },
    {
      "cell_type": "code",
      "source": [
        "texto_lucro = f'R${lucro:_.2f}'\n",
        "print(f'O lucro foi de {texto_lucro}')"
      ],
      "metadata": {
        "colab": {
          "base_uri": "https://localhost:8080/"
        },
        "id": "nmxAa2pGf4F8",
        "outputId": "05455162-00a5-4625-871f-4362d331099f"
      },
      "execution_count": 6,
      "outputs": [
        {
          "output_type": "stream",
          "name": "stdout",
          "text": [
            "O lucro foi de R$1_000.00\n"
          ]
        }
      ]
    },
    {
      "cell_type": "code",
      "source": [
        "texto_lucro = f'R${lucro:_.2f}'\n",
        "texto_lucro = texto_lucro.replace('.',',').replace('_','.')\n",
        "print(f'O lucro foi de {texto_lucro}')"
      ],
      "metadata": {
        "colab": {
          "base_uri": "https://localhost:8080/"
        },
        "id": "AQ1kTMO4gAGp",
        "outputId": "89d61c5c-eeac-43ca-8864-54bc91023f85"
      },
      "execution_count": 7,
      "outputs": [
        {
          "output_type": "stream",
          "name": "stdout",
          "text": [
            "O lucro foi de R$1.000,00\n"
          ]
        }
      ]
    },
    {
      "cell_type": "code",
      "source": [
        "def formatar(valor):\n",
        "    int_part, dec_part = format(valor, ',.2f').split('.')\n",
        "    return f\"R${int_part.replace(',', '.')},{dec_part}\"\n",
        "\n",
        "print(formatar(10_535.30))"
      ],
      "metadata": {
        "colab": {
          "base_uri": "https://localhost:8080/"
        },
        "id": "he2zBOY_ga5Y",
        "outputId": "241240db-8490-48f0-bd18-0939d2853583"
      },
      "execution_count": 8,
      "outputs": [
        {
          "output_type": "stream",
          "name": "stdout",
          "text": [
            "R$10.535,30\n"
          ]
        }
      ]
    },
    {
      "cell_type": "code",
      "source": [
        "initial_num = 1000000000\n",
        "\n",
        "thousand_sep = (format(initial_num, ',d'))\n",
        "\n",
        "print(\"Number before inserting commas : \" + str(initial_num))\n",
        "print(\"Number after inserting commas: \" + str(thousand_sep))"
      ],
      "metadata": {
        "colab": {
          "base_uri": "https://localhost:8080/"
        },
        "id": "9X58hTjRhO69",
        "outputId": "da1a62f1-2633-428a-9914-8538470a26d7"
      },
      "execution_count": 9,
      "outputs": [
        {
          "output_type": "stream",
          "name": "stdout",
          "text": [
            "Number before inserting commas : 1000000000\n",
            "Number after inserting commas: 1,000,000,000\n"
          ]
        }
      ]
    },
    {
      "cell_type": "code",
      "source": [
        "def thousand_sep(num):\n",
        "    return (\"{:,}\".format(num))\n",
        "  \n",
        "print(thousand_sep(1000000000))\n"
      ],
      "metadata": {
        "colab": {
          "base_uri": "https://localhost:8080/"
        },
        "id": "oQ9n5SHwhUuc",
        "outputId": "fcc8ac29-e595-4488-d518-95adb861a746"
      },
      "execution_count": 10,
      "outputs": [
        {
          "output_type": "stream",
          "name": "stdout",
          "text": [
            "1,000,000,000\n"
          ]
        }
      ]
    },
    {
      "cell_type": "code",
      "source": [
        "initial_num = 1000000000\n",
        "f'{initial_num:,}'"
      ],
      "metadata": {
        "colab": {
          "base_uri": "https://localhost:8080/",
          "height": 35
        },
        "id": "RJjal2JrhY1U",
        "outputId": "5ba4d3da-f530-4251-9012-1bc3ece9b9b1"
      },
      "execution_count": 11,
      "outputs": [
        {
          "output_type": "execute_result",
          "data": {
            "text/plain": [
              "'1,000,000,000'"
            ],
            "application/vnd.google.colaboratory.intrinsic+json": {
              "type": "string"
            }
          },
          "metadata": {},
          "execution_count": 11
        }
      ]
    },
    {
      "cell_type": "code",
      "source": [
        "numero = round(3.32424, 2)\n",
        "print(numero)"
      ],
      "metadata": {
        "colab": {
          "base_uri": "https://localhost:8080/"
        },
        "id": "xeSM_xtnhtuY",
        "outputId": "4a7ef15f-f03c-4ce8-d253-bb6c81f8658e"
      },
      "execution_count": 13,
      "outputs": [
        {
          "output_type": "stream",
          "name": "stdout",
          "text": [
            "3.32\n"
          ]
        }
      ]
    },
    {
      "cell_type": "code",
      "source": [
        "numero2 = 4.38991\n",
        "print(\"%.2f\" % numero2)"
      ],
      "metadata": {
        "colab": {
          "base_uri": "https://localhost:8080/"
        },
        "id": "qsoMVjhFh1II",
        "outputId": "046c755d-fcc2-41b9-aee0-7187e7192b21"
      },
      "execution_count": 14,
      "outputs": [
        {
          "output_type": "stream",
          "name": "stdout",
          "text": [
            "4.39\n"
          ]
        }
      ]
    },
    {
      "cell_type": "code",
      "source": [
        "teste = 7.98562434234\n",
        "print('O valor de teste formatado é {:.4f}'.format(teste))"
      ],
      "metadata": {
        "colab": {
          "base_uri": "https://localhost:8080/"
        },
        "id": "KnIcqKqOh4Ou",
        "outputId": "082d19f1-2673-4e5e-e8e1-572e07010551"
      },
      "execution_count": 15,
      "outputs": [
        {
          "output_type": "stream",
          "name": "stdout",
          "text": [
            "O valor de teste formatado é 7.9856\n"
          ]
        }
      ]
    },
    {
      "cell_type": "code",
      "source": [
        "nome = 'Python Academy'\n",
        "\n",
        "print(f\"Qual o melhor Blog sobre Python? {nome}!\")"
      ],
      "metadata": {
        "colab": {
          "base_uri": "https://localhost:8080/"
        },
        "id": "4ueVfMoqh_SR",
        "outputId": "f1eb2e04-f6eb-4761-a428-eee5d53e7ec9"
      },
      "execution_count": 16,
      "outputs": [
        {
          "output_type": "stream",
          "name": "stdout",
          "text": [
            "Qual o melhor Blog sobre Python? Python Academy!\n"
          ]
        }
      ]
    },
    {
      "cell_type": "code",
      "source": [
        "nome = 'python academy'\n",
        "\n",
        "print(f\"Qual o melhor Blog sobre Python? {nome.upper() + '!' * 3}\")"
      ],
      "metadata": {
        "colab": {
          "base_uri": "https://localhost:8080/"
        },
        "id": "nPZzj1hXiDSy",
        "outputId": "1fd3d5d1-6b0c-4157-9de1-f6b36f04b07b"
      },
      "execution_count": 17,
      "outputs": [
        {
          "output_type": "stream",
          "name": "stdout",
          "text": [
            "Qual o melhor Blog sobre Python? PYTHON ACADEMY!!!\n"
          ]
        }
      ]
    },
    {
      "cell_type": "code",
      "source": [
        "import math\n",
        "x = 0.5\n",
        "print(f'cos({x}) = {math.cos(x)}')"
      ],
      "metadata": {
        "colab": {
          "base_uri": "https://localhost:8080/"
        },
        "id": "Kro_RL0UiILh",
        "outputId": "47381cd2-6124-4625-855b-645c8c5fc0f1"
      },
      "execution_count": 19,
      "outputs": [
        {
          "output_type": "stream",
          "name": "stdout",
          "text": [
            "cos(0.5) = 0.8775825618903728\n"
          ]
        }
      ]
    },
    {
      "cell_type": "code",
      "source": [
        "dicionario = dict({'nome': 'Vinícius', 'ocupacao': 'Software Engineer'})\n",
        "print(f\"{dicionario['nome']} é um {dicionario['ocupacao']}\")"
      ],
      "metadata": {
        "colab": {
          "base_uri": "https://localhost:8080/"
        },
        "id": "5f0Bscg6iLU_",
        "outputId": "91f2d9f9-566c-4fbf-e5f5-7df29ec15245"
      },
      "execution_count": 20,
      "outputs": [
        {
          "output_type": "stream",
          "name": "stdout",
          "text": [
            "Vinícius é um Software Engineer\n"
          ]
        }
      ]
    },
    {
      "cell_type": "code",
      "source": [
        "site = 'Python Academy'\n",
        "titulo = 'f-string no Python'\n",
        "dificuldade = 'Básico'\n",
        "\n",
        "print(\n",
        "  f\"Site: {site}\\n\"\n",
        "  f\"Título: {titulo}\\n\"\n",
        "  f\"Dificuldade: {dificuldade}\"\n",
        ")"
      ],
      "metadata": {
        "colab": {
          "base_uri": "https://localhost:8080/"
        },
        "id": "715IXWYUiPV7",
        "outputId": "dfe561a0-6e42-43ab-9228-f4cdd0ec3b73"
      },
      "execution_count": 21,
      "outputs": [
        {
          "output_type": "stream",
          "name": "stdout",
          "text": [
            "Site: Python Academy\n",
            "Título: f-string no Python\n",
            "Dificuldade: Básico\n"
          ]
        }
      ]
    },
    {
      "cell_type": "code",
      "source": [
        "class Carro:\n",
        "  def __init__(self, marca, modelo, ano):\n",
        "    self.marca = marca\n",
        "    self.modelo = modelo\n",
        "    self.ano = ano\n",
        "    \n",
        "  def __str__(self):\n",
        "    return f\"{self.marca}/{self.modelo} - Ano {self.ano}\"\n",
        "\n",
        "  def __repr__(self):\n",
        "    return (\n",
        "      f\"Marca: {self.marca}\\n\"\n",
        "      f\"Modelo: {self.modelo}\\n\"\n",
        "      f\"Ano: {self.ano}\"\n",
        "    )"
      ],
      "metadata": {
        "id": "1M1qNbDciUEO"
      },
      "execution_count": 22,
      "outputs": []
    },
    {
      "cell_type": "code",
      "source": [
        "possante = Carro('Ferrari', 'F8 Tributo', '21')\n",
        "print(f'{possante}')"
      ],
      "metadata": {
        "colab": {
          "base_uri": "https://localhost:8080/"
        },
        "id": "a1ZzWvWxiX3-",
        "outputId": "58ac5ef9-0029-4ef6-b172-82bd2ce9dd5a"
      },
      "execution_count": 23,
      "outputs": [
        {
          "output_type": "stream",
          "name": "stdout",
          "text": [
            "Ferrari/F8 Tributo - Ano 21\n"
          ]
        }
      ]
    },
    {
      "cell_type": "code",
      "source": [
        "print(f'{possante!r}')"
      ],
      "metadata": {
        "colab": {
          "base_uri": "https://localhost:8080/"
        },
        "id": "hEb6RIdQicqL",
        "outputId": "764a7737-3f4b-4297-ce27-995411a45fc2"
      },
      "execution_count": 24,
      "outputs": [
        {
          "output_type": "stream",
          "name": "stdout",
          "text": [
            "Marca: Ferrari\n",
            "Modelo: F8 Tributo\n",
            "Ano: 21\n"
          ]
        }
      ]
    }
  ]
}